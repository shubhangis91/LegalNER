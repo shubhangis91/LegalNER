{
 "cells": [
  {
   "cell_type": "code",
   "execution_count": 1,
   "metadata": {},
   "outputs": [
    {
     "name": "stderr",
     "output_type": "stream",
     "text": [
      "C:\\Users\\shubh\\Anaconda3\\envs\\vtf_1\\lib\\site-packages\\gensim\\utils.py:1197: UserWarning: detected Windows; aliasing chunkize to chunkize_serial\n",
      "  warnings.warn(\"detected Windows; aliasing chunkize to chunkize_serial\")\n"
     ]
    }
   ],
   "source": [
    "import flair\n",
    "import numpy as np\n",
    "import re\n",
    "import csv\n",
    "\n",
    "from flair.data import TaggedCorpus\n",
    "from flair.data_fetcher import NLPTaskDataFetcher, NLPTask\n",
    "from flair.embeddings import TokenEmbeddings, WordEmbeddings, StackedEmbeddings\n",
    "from typing import List\n",
    "\n",
    "from flair.models import SequenceTagger\n",
    "\n",
    "from flair.trainers import ModelTrainer\n",
    "\n",
    "from flair.visual.training_curves import Plotter"
   ]
  },
  {
   "cell_type": "code",
   "execution_count": 3,
   "metadata": {},
   "outputs": [],
   "source": [
    "columns = {0: 'text', 1: 'pos', 2: 'ner'}"
   ]
  },
  {
   "cell_type": "code",
   "execution_count": 88,
   "metadata": {},
   "outputs": [],
   "source": [
    "data_folder = './project/example/ner/test/'\n",
    "\n",
    "temp_train_file = data_folder + \"temp_train.txt\"\n",
    "temp_test_file = data_folder + \"temp_test.txt\"\n",
    "temp_dev_file = data_folder + \"temp_dev.txt\"\n",
    "\n",
    "temp_train_file1 = data_folder + \"temp_train1.txt\"\n",
    "temp_test_file1 = data_folder + \"temp_test1.txt\"\n",
    "temp_dev_file1 = data_folder + \"temp_dev1.txt\"\n",
    "\n",
    "temp_train_file2 = data_folder + \"temp_train2.txt\"\n",
    "temp_test_file2 = data_folder + \"temp_test2.txt\"\n",
    "temp_dev_file2 = data_folder + \"temp_dev2.txt\"\n",
    "\n",
    "train_file = data_folder + \"train.txt\"\n",
    "test_file = data_folder + \"test.txt\"\n",
    "dev_file = data_folder + \"dev.txt\""
   ]
  },
  {
   "cell_type": "code",
   "execution_count": 206,
   "metadata": {},
   "outputs": [],
   "source": [
    "train_files = ['1.txt.tsv', '2.txt.tsv', '3.txt.tsv', '4.txt.tsv', '5.txt.tsv', '6.txt.tsv', '7.txt.tsv', '8.txt.tsv', '9.txt.tsv', '10.txt.tsv', '11.txt.tsv', '12.txt.tsv', '13.txt.tsv', '14.txt.tsv', '15.txt.tsv', '16.txt.tsv', '17.txt.tsv', '18.txt.tsv', '19.txt.tsv', '20.txt.tsv', '21.txt.tsv', '22.txt.tsv', '23.txt.tsv', '24.txt.tsv', '25.txt.tsv', '26.txt.tsv', '27.txt.tsv', '28.txt.tsv', '29.txt.tsv', '30.txt.tsv', '31.txt.tsv', '32.txt.tsv', '33.txt.tsv', '34.txt.tsv', '35.txt.tsv', '36.txt.tsv', '37.txt.tsv', '38.txt.tsv', '39.txt.tsv']"
   ]
  },
  {
   "cell_type": "code",
   "execution_count": 207,
   "metadata": {},
   "outputs": [],
   "source": [
    "keep_pattern = \"[\\d*-1\\s*]\""
   ]
  },
  {
   "cell_type": "code",
   "execution_count": 214,
   "metadata": {},
   "outputs": [],
   "source": [
    "for filename in train_files:\n",
    "    file = data_folder+filename\n",
    "\n",
    "    with open(file, \"r\", encoding=\"utf8\") as f:\n",
    "        lines = f.readlines()\n",
    "\n",
    "    with open(temp_train_file, \"a\") as f:\n",
    "        for line in lines:\n",
    "            if re.match(\"\\s+\", line):\n",
    "                continue\n",
    "            if re.match(keep_pattern, line):\n",
    "                f.write(line)"
   ]
  },
  {
   "cell_type": "code",
   "execution_count": 215,
   "metadata": {},
   "outputs": [],
   "source": [
    "with open(temp_train_file, \"r\") as f_temp:\n",
    "    lines = f_temp.readlines()\n",
    "    \n",
    "    with open(temp_train_file1, \"w\") as f:\n",
    "        count =0 \n",
    "        for line in lines:\n",
    "            count += 1\n",
    "            columns = re.split(\"\\s+\", line)\n",
    "            columns[3] = re.sub(r'\\[\\d*\\]', \"\", columns[3])\n",
    "#             if count < 10:\n",
    "#                 print(columns[2]+\"\\t_\\t\"+columns[3]+\"\\n\")\n",
    "            f.write(columns[2]+\"\\t_\\t\"+columns[3]+\"\\n\")"
   ]
  },
  {
   "cell_type": "code",
   "execution_count": 216,
   "metadata": {},
   "outputs": [],
   "source": [
    "with open(temp_train_file1, \"r\") as f:\n",
    "    lines = f.readlines()\n",
    "#         count =0 \n",
    "    with open(temp_train_file2, \"w\") as fp:\n",
    "        for line in lines:\n",
    "#             count += 1\n",
    "            columns = re.split(\"\\s+\", line)\n",
    "            if columns[0] == \".\" and columns[2] == \"_\":\n",
    "                fp.write(line)\n",
    "                fp.write(\"\\n\")\n",
    "            else:\n",
    "                fp.write(line)"
   ]
  },
  {
   "cell_type": "markdown",
   "metadata": {},
   "source": [
    "Adding POS tags to the corpus"
   ]
  },
  {
   "cell_type": "code",
   "execution_count": 211,
   "metadata": {},
   "outputs": [
    {
     "name": "stderr",
     "output_type": "stream",
     "text": [
      "[nltk_data] Downloading package words to\n",
      "[nltk_data]     C:\\Users\\shubh\\AppData\\Roaming\\nltk_data...\n",
      "[nltk_data]   Package words is already up-to-date!\n",
      "[nltk_data] Downloading package averaged_perceptron_tagger to\n",
      "[nltk_data]     C:\\Users\\shubh\\AppData\\Roaming\\nltk_data...\n",
      "[nltk_data]   Package averaged_perceptron_tagger is already up-to-\n",
      "[nltk_data]       date!\n"
     ]
    },
    {
     "data": {
      "text/plain": [
       "True"
      ]
     },
     "execution_count": 211,
     "metadata": {},
     "output_type": "execute_result"
    }
   ],
   "source": [
    "import nltk\n",
    "from nltk.corpus import words\n",
    "nltk.download('words')\n",
    "nltk.download('averaged_perceptron_tagger')"
   ]
  },
  {
   "cell_type": "code",
   "execution_count": 218,
   "metadata": {},
   "outputs": [],
   "source": [
    "with open(temp_train_file2, \"r\") as f:\n",
    "    lines = f.readlines()\n",
    "    count =0 \n",
    "    with open(train_file, \"a\") as fp:\n",
    "        for line in lines:\n",
    "            count += 1\n",
    "            if line != \"\\n\":\n",
    "                columns = re.split(\"\\s+\", line)\n",
    "                word = nltk.word_tokenize(columns[0])\n",
    "                if word[0].lower() in words.words():\n",
    "                    pos = nltk.pos_tag(word)[0][1]\n",
    "                    if columns[2] == \"_\":\n",
    "                        fp.write(columns[0]+\"\\t\"+pos+\"\\t\"+\"O\"+\"\\n\")\n",
    "                    else:\n",
    "                        fp.write(columns[0]+\"\\t\"+pos+\"\\t\"+columns[2]+\"\\n\")\n",
    "                else:\n",
    "                    if columns[2] == \"_\":\n",
    "                        fp.write(columns[0]+\"\\t\"+pos+\"\\t\"+\"O\"+\"\\n\")\n",
    "                    else:\n",
    "                        fp.write(columns[0]+\"\\t\"+\"NN\"+\"\\t\"+columns[2]+\"\\n\")\n",
    "            else:\n",
    "                fp.write(\"\\n\")\n",
    "            "
   ]
  }
 ],
 "metadata": {
  "kernelspec": {
   "display_name": "Python 3",
   "language": "python",
   "name": "python3"
  },
  "language_info": {
   "codemirror_mode": {
    "name": "ipython",
    "version": 3
   },
   "file_extension": ".py",
   "mimetype": "text/x-python",
   "name": "python",
   "nbconvert_exporter": "python",
   "pygments_lexer": "ipython3",
   "version": "3.6.8"
  }
 },
 "nbformat": 4,
 "nbformat_minor": 2
}
